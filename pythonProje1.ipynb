{
 "cells": [
  {
   "cell_type": "code",
   "execution_count": 1,
   "id": "requested-whole",
   "metadata": {},
   "outputs": [],
   "source": [
    "import pandas as pd\n",
    "import numpy as np"
   ]
  },
  {
   "cell_type": "code",
   "execution_count": 2,
   "id": "renewable-improvement",
   "metadata": {},
   "outputs": [],
   "source": [
    "class dataset(object):\n",
    "    \n",
    "    def __init__(self):\n",
    "        self.data=pd.read_csv(\"class.csv\")\n",
    "        print(self.data)\n",
    "        \n",
    "    def sutun_adlari(self):\n",
    "        print(*self.data.columns)\n",
    " \n",
    "    def boyut(self):\n",
    "        print(self.data.shape)\n",
    "    \n",
    "    def sutunyazdır(self):\n",
    "        print(np.transpose(self.data.Departman))\n",
    "    \n",
    "    def benzersiz(self):\n",
    "        print(*np.unique(self.data.Departman))\n",
    "    \n",
    "    def benzersiz_adet(self):\n",
    "        print(*np.unique(self.data.Departman).shape)\n",
    "    \n",
    "    def sutuntip(self):\n",
    "        for i in self.data.columns:\n",
    "            print(type(i))\n",
    "\n",
    "    def ortalama(self):\n",
    "        self.data=pd.to_numeric(self.data.Yas)\n",
    "        self.data=list(self.data)\n",
    "        print(\"Adı        : - \\nDepartman  : - \\nYas        :\",np.mean(self.data),\"\\nDogumYeri  : -\")\n"
   ]
  },
  {
   "cell_type": "code",
   "execution_count": 3,
   "id": "local-bronze",
   "metadata": {},
   "outputs": [
    {
     "name": "stdout",
     "output_type": "stream",
     "text": [
      "       Adi  Departman  Yas  DogumYeri\n",
      "0      Ali         IT   35      Bursa\n",
      "1     Ayse  Pazarlama   40     Ankara\n",
      "2      Can  Pazarlama   24     Ankara\n",
      "3    Selin         IT   32  Eskisehir\n",
      "4     Mert         IT   42    Kocaeli\n",
      "5    Merve  Pazarlama   28     Ankara\n"
     ]
    }
   ],
   "source": [
    "a=dataset()"
   ]
  },
  {
   "cell_type": "code",
   "execution_count": 4,
   "id": "silent-wrapping",
   "metadata": {},
   "outputs": [
    {
     "name": "stdout",
     "output_type": "stream",
     "text": [
      "  Adi Departman Yas DogumYeri\n"
     ]
    }
   ],
   "source": [
    "a.sutun_adlari()"
   ]
  },
  {
   "cell_type": "code",
   "execution_count": 5,
   "id": "israeli-requirement",
   "metadata": {},
   "outputs": [
    {
     "name": "stdout",
     "output_type": "stream",
     "text": [
      "(6, 4)\n"
     ]
    }
   ],
   "source": [
    "a.boyut()"
   ]
  },
  {
   "cell_type": "code",
   "execution_count": 6,
   "id": "derived-repair",
   "metadata": {},
   "outputs": [
    {
     "name": "stdout",
     "output_type": "stream",
     "text": [
      "0           IT\n",
      "1    Pazarlama\n",
      "2    Pazarlama\n",
      "3           IT\n",
      "4           IT\n",
      "5    Pazarlama\n",
      "Name: Departman, dtype: object\n"
     ]
    }
   ],
   "source": [
    "a.sutunyazdır()"
   ]
  },
  {
   "cell_type": "code",
   "execution_count": 7,
   "id": "adult-seller",
   "metadata": {},
   "outputs": [
    {
     "name": "stdout",
     "output_type": "stream",
     "text": [
      "IT Pazarlama\n"
     ]
    }
   ],
   "source": [
    "a.benzersiz()"
   ]
  },
  {
   "cell_type": "code",
   "execution_count": 8,
   "id": "supported-python",
   "metadata": {},
   "outputs": [
    {
     "name": "stdout",
     "output_type": "stream",
     "text": [
      "2\n"
     ]
    }
   ],
   "source": [
    "a.benzersiz_adet()"
   ]
  },
  {
   "cell_type": "code",
   "execution_count": 9,
   "id": "shaped-discharge",
   "metadata": {},
   "outputs": [
    {
     "name": "stdout",
     "output_type": "stream",
     "text": [
      "<class 'str'>\n",
      "<class 'str'>\n",
      "<class 'str'>\n",
      "<class 'str'>\n"
     ]
    }
   ],
   "source": [
    "a.sutuntip()"
   ]
  },
  {
   "cell_type": "code",
   "execution_count": 10,
   "id": "representative-tractor",
   "metadata": {
    "scrolled": true
   },
   "outputs": [
    {
     "name": "stdout",
     "output_type": "stream",
     "text": [
      "Adı        : - \n",
      "Departman  : - \n",
      "Yas        : 33.5 \n",
      "DogumYeri  : -\n"
     ]
    }
   ],
   "source": [
    "a.ortalama()"
   ]
  }
 ],
 "metadata": {
  "kernelspec": {
   "display_name": "Python 3",
   "language": "python",
   "name": "python3"
  },
  "language_info": {
   "codemirror_mode": {
    "name": "ipython",
    "version": 3
   },
   "file_extension": ".py",
   "mimetype": "text/x-python",
   "name": "python",
   "nbconvert_exporter": "python",
   "pygments_lexer": "ipython3",
   "version": "3.9.5"
  }
 },
 "nbformat": 4,
 "nbformat_minor": 5
}
