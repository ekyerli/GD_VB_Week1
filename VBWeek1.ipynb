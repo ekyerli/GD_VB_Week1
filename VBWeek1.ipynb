{
 "cells": [
  {
   "cell_type": "markdown",
   "id": "favorite-survival",
   "metadata": {},
   "source": [
    "# Veri tipleri "
   ]
  },
  {
   "cell_type": "code",
   "execution_count": 34,
   "id": "threatened-hazard",
   "metadata": {},
   "outputs": [
    {
     "name": "stdout",
     "output_type": "stream",
     "text": [
      "2210.6814074060803\n"
     ]
    }
   ],
   "source": [
    "Yatirilan=1000\n",
    "for i in range(7):\n",
    "    Yatirilan=(12/100)*Yatirilan+Yatirilan\n",
    "    i=1+i\n",
    "Son=Yatirilan\n",
    "print(Son)"
   ]
  },
  {
   "cell_type": "code",
   "execution_count": 29,
   "id": "starting-camel",
   "metadata": {},
   "outputs": [
    {
     "name": "stdout",
     "output_type": "stream",
     "text": [
      "Hafta başında 1000 dolarlık bitcoin aldığımızda günde ortalama %12 kazançla,\n",
      "bir hafta sonunda 1210.68 dolar kazanırdık\n"
     ]
    }
   ],
   "source": [
    "print(\"Hafta başında 1000 dolarlık bitcoin aldığımızda günde ortalama %12 kazançla,\\nbir hafta sonunda 1210.68 dolar kazanırdık\")"
   ]
  },
  {
   "cell_type": "code",
   "execution_count": 37,
   "id": "painted-imaging",
   "metadata": {},
   "outputs": [
    {
     "name": "stdout",
     "output_type": "stream",
     "text": [
      "Dereceyi giriniz: 26\n",
      "Sıcaklık (C): -3.33\n"
     ]
    }
   ],
   "source": [
    "Fahrenheit=input(\"Dereceyi giriniz: \")\n",
    "Derece=(5/9)*(int(Fahrenheit)-32)\n",
    "print(\"Sıcaklık (C): {0:.2f}\".format(Derece))"
   ]
  },
  {
   "cell_type": "code",
   "execution_count": 46,
   "id": "reduced-sympathy",
   "metadata": {},
   "outputs": [
    {
     "name": "stdout",
     "output_type": "stream",
     "text": [
      "Üç rakamlı bir sayı girin : 123\n",
      "Sayıdaki rakamların toplamı : 6\n"
     ]
    }
   ],
   "source": [
    "Uc_rakam=input(\"Üç rakamlı bir sayı girin : \")\n",
    "Toplam=int(Uc_rakam[0])+int(Uc_rakam[1])+int(Uc_rakam[2])\n",
    "print(\"Sayıdaki rakamların toplamı :\",Toplam)"
   ]
  },
  {
   "cell_type": "code",
   "execution_count": 66,
   "id": "third-webcam",
   "metadata": {},
   "outputs": [
    {
     "name": "stdout",
     "output_type": "stream",
     "text": [
      "Birinci kenar uzunluğu : 6\n",
      "İkinci kenar uzunluğu : 8\n",
      "Hipotenüsün uzunluğu : 10\n"
     ]
    }
   ],
   "source": [
    "Birinci_kenar=input(\"Birinci kenar uzunluğu : \")\n",
    "Ikinci_kenar=input(\"İkinci kenar uzunluğu : \")\n",
    "print(\"Hipotenüsün uzunluğu :\",int(math.sqrt(int(Birinci_kenar)*int(Birinci_kenar)+int(Ikinci_kenar)*int(Ikinci_kenar))))"
   ]
  },
  {
   "cell_type": "markdown",
   "id": "protected-milton",
   "metadata": {},
   "source": [
    "# Değişkenler"
   ]
  },
  {
   "cell_type": "code",
   "execution_count": 36,
   "id": "greater-neighborhood",
   "metadata": {},
   "outputs": [
    {
     "name": "stdout",
     "output_type": "stream",
     "text": [
      "False\n"
     ]
    }
   ],
   "source": [
    "x=1\n",
    "y=\"1\"\n",
    "print(x==y)"
   ]
  },
  {
   "cell_type": "code",
   "execution_count": 33,
   "id": "married-arrow",
   "metadata": {},
   "outputs": [
    {
     "name": "stdout",
     "output_type": "stream",
     "text": [
      "True\n"
     ]
    }
   ],
   "source": [
    "y=int(y)\n",
    "print(x==y)"
   ]
  },
  {
   "cell_type": "markdown",
   "id": "married-handle",
   "metadata": {},
   "source": [
    "# Listeler"
   ]
  },
  {
   "cell_type": "code",
   "execution_count": 12,
   "id": "dynamic-survivor",
   "metadata": {},
   "outputs": [
    {
     "name": "stdout",
     "output_type": "stream",
     "text": [
      "176\n"
     ]
    }
   ],
   "source": [
    "my_list = [34, 56, 76, 45, 2, 12, 67, 98, 37, 54, 66]\n",
    "my_list.sort()\n",
    "print(my_list[0]+my_list[-1]+my_list[-2])\n",
    "#soru yanlış en yüksek ve en düşük sayı 98 ve 2 onlarda 100 yapıyor. Acaba en yüksek 2 sayı mı diye düşündüm. O zaman da 176 yapıyor."
   ]
  },
  {
   "cell_type": "code",
   "execution_count": 20,
   "id": "weekly-group",
   "metadata": {},
   "outputs": [
    {
     "name": "stdout",
     "output_type": "stream",
     "text": [
      "kimin notunu öğrenmek istiyorsunuz?David\n",
      "David isimli öğrencinin notu: 99\n"
     ]
    }
   ],
   "source": [
    "names = [\"David\", \"Michael\", \"John\", \"James\", \"Greg\", \"Mark\", \"William\", \n",
    "          \"Richard\", \"Thomas\", \"Steven\", \"Mary\", \"Susan\", \"Maria\", \"Karen\", \n",
    "          \"Lisa\", \"Linda\", \"Donna\", \"Patricia\", \"Debra\", \"Eric\"]\n",
    "scores = [99, 87, 78, 86, 68, 94, 76, 97, 56, 98, 76, 87, 79, 90, 73, 93, 82, 69, 97, 98]\n",
    "kisi=input(\"kimin notunu öğrenmek istiyorsunuz?\")\n",
    "sira=names.index(kisi)\n",
    "print(kisi, \"isimli öğrencinin notu:\",scores[sira])"
   ]
  },
  {
   "cell_type": "code",
   "execution_count": 26,
   "id": "threaded-breath",
   "metadata": {},
   "outputs": [
    {
     "name": "stdout",
     "output_type": "stream",
     "text": [
      "1\n"
     ]
    }
   ],
   "source": [
    "scores = [99, 87, 78, 86, 68, 94, 76, 97 ,56, 98, 76, 87, 79, 90, 73, 93, 82, 69, 97, 98]\n",
    "scores.sort()\n",
    "adet=scores.count(scores[-1])\n",
    "print(adet)\n",
    "#örnekteki cevap yanlış en yüksek 99 ve ondan 1 tane var."
   ]
  },
  {
   "cell_type": "code",
   "execution_count": 28,
   "id": "determined-politics",
   "metadata": {},
   "outputs": [
    {
     "name": "stdout",
     "output_type": "stream",
     "text": [
      "[['January', 31], ['February', 28], ['March', 31], ['April', 30], ['May', 31], ['June', 30], ['July', 31], ['August', 31], ['September', 30], ['October', 31], ['November', 30], ['December', 31]]\n"
     ]
    }
   ],
   "source": [
    "Aylar = [['January', 31], ['February', 28], ['March', 31], ['April', 30], ['May', 31], ['June', 30], ['July', 31], ['August', 31], ['September', 30], ['October', 31], ['November', 30], ['December', 31]]\n",
    "print(Aylar)"
   ]
  },
  {
   "cell_type": "code",
   "execution_count": 29,
   "id": "accomplished-offset",
   "metadata": {},
   "outputs": [
    {
     "name": "stdout",
     "output_type": "stream",
     "text": [
      "['Mart', 'Nisan', 'Mayıs'] ['Haziran', 'Temmuz', 'Ağustos'] ['Eylül', 'Ekim', 'Kasım'] ['Aralık', 'Ocak', 'Şubat']\n"
     ]
    }
   ],
   "source": [
    "ilkbahar = ['Mart', 'Nisan', 'Mayıs']\n",
    "yaz = ['Haziran', 'Temmuz','Ağustos']\n",
    "sonbahar = ['Eylül', 'Ekim', 'Kasım']\n",
    "kış = ['Aralık', 'Ocak', 'Şubat']\n",
    "print(ilkbahar,yaz,sonbahar,kış)"
   ]
  },
  {
   "cell_type": "code",
   "execution_count": 32,
   "id": "sorted-ukraine",
   "metadata": {},
   "outputs": [
    {
     "name": "stdout",
     "output_type": "stream",
     "text": [
      "Yaz ayı 92 gün sürüyor\n"
     ]
    }
   ],
   "source": [
    "print(\"Yaz ayı\",Aylar[5][1]+Aylar[6][1]+Aylar[7][1],\"gün sürüyor\")"
   ]
  },
  {
   "cell_type": "markdown",
   "id": "secondary-kitty",
   "metadata": {},
   "source": [
    "# Sözlük"
   ]
  },
  {
   "cell_type": "code",
   "execution_count": 133,
   "id": "overall-young",
   "metadata": {},
   "outputs": [
    {
     "name": "stdout",
     "output_type": "stream",
     "text": [
      "Silinmesini istediğiniz günleri giriniz:12\n",
      "{3: 'Wednesday', 4: 'Thursday', 5: 'Friday', 6: 'Saturday', 7: 'Sunday'}\n"
     ]
    }
   ],
   "source": [
    "haftanin_gunleri = {1: 'Monday',2: 'Tuesday', 3: 'Wednesday', 4: 'Thursday',5: 'Friday' ,6: 'Saturday', 7: 'Sunday'}\n",
    "gunsec = input(\"Silinmesini istediğiniz günleri giriniz:\")\n",
    "del haftanin_gunleri[int(gunsec[0])]\n",
    "del haftanin_gunleri[int(gunsec[1])]\n",
    "print(haftanin_gunleri)\n"
   ]
  },
  {
   "cell_type": "code",
   "execution_count": 174,
   "id": "sustained-lawrence",
   "metadata": {},
   "outputs": [
    {
     "name": "stdout",
     "output_type": "stream",
     "text": [
      "{'John': ({'Age': '25'}, {'Sex': 'Male'}), 'Lisa': ({'Age': '28'}, {'Sex': 'Female'}), 'Linda': ({'Age': '32'}, {'Sex': 'Female'}), 'Michael': ({'Age': '41'}, {'Sex': 'Male'})}\n"
     ]
    }
   ],
   "source": [
    "Sozluk={\"John\":({\"Age\":\"25\"},{\"Sex\":\"Male\"}),\"Lisa\":({\"Age\":\"28\"},{\"Sex\":\"Female\"}),\"Linda\":({\"Age\":\"32\"},{\"Sex\":\"Female\"}),\"Michael\":({\"Age\":\"41\"},{\"Sex\":\"Male\"})}\n",
    "print(Sozluk)\n"
   ]
  },
  {
   "cell_type": "code",
   "execution_count": 287,
   "id": "professional-antique",
   "metadata": {},
   "outputs": [
    {
     "name": "stdout",
     "output_type": "stream",
     "text": [
      "{'John': ({'Age': '25'}, {'Sex': 'Male'}), 'Lisa': ({'Age': '28'}, {'Sex': 'Female'}), 'Linda': ({'Age': '32'}, {'Sex': 'Female'}, {'Cocuk': {'Susan': ({'Age': '6'}, {'Sex': 'Female'})}}), 'Michael': [{'Age': '41'}, {'Sex': 'Male'}, {'Cocuk': [{'Karen': ({'Age': '12'}, {'Sex': 'Female'})}, {'Greg': ({'Age': '7'}, {'Sex': 'Male'})}]}]}\n"
     ]
    }
   ],
   "source": [
    "Sozluk={\"John\":({\"Age\":\"25\"},{\"Sex\":\"Male\"}),\"Lisa\":({\"Age\":\"28\"},{\"Sex\":\"Female\"}),\"Linda\":({\"Age\":\"32\"},{\"Sex\":\"Female\"},{\"Cocuk\":({\"Susan\":({\"Age\":\"6\"},{\"Sex\":\"Female\"})})}),\"Michael\":[{\"Age\":\"41\"},{\"Sex\":\"Male\"},{\"Cocuk\":[{\"Karen\":({\"Age\":\"12\"},{\"Sex\":\"Female\"})},{\"Greg\":({\"Age\":\"7\"},{\"Sex\":\"Male\"})}]}]}\n",
    "print(Sozluk)\n"
   ]
  },
  {
   "cell_type": "code",
   "execution_count": 331,
   "id": "residential-description",
   "metadata": {},
   "outputs": [
    {
     "name": "stdout",
     "output_type": "stream",
     "text": [
      "['Karen'] ['Greg']\n"
     ]
    }
   ],
   "source": [
    "print(list(Sozluk[\"Michael\"][2][\"Cocuk\"][0].keys()),list(Sozluk[\"Michael\"][2][\"Cocuk\"][1].keys()))\n"
   ]
  },
  {
   "cell_type": "markdown",
   "id": "modular-arlington",
   "metadata": {},
   "source": [
    "# Tuples\n"
   ]
  },
  {
   "cell_type": "code",
   "execution_count": 344,
   "id": "acquired-moisture",
   "metadata": {},
   "outputs": [
    {
     "name": "stdout",
     "output_type": "stream",
     "text": [
      "('Monday', 'Tuesday', 'Wednesday', 'Thursday', 'Friday', 'Saturday', 'Sunday')\n"
     ]
    }
   ],
   "source": [
    "hafta=(\"Monday\",\"Tuesday\",\"Wednesday\",\"Thursday\",\"Friday\",\"Saturday\",\"Sunday\")\n",
    "print(hafta)"
   ]
  },
  {
   "cell_type": "code",
   "execution_count": 345,
   "id": "owned-stage",
   "metadata": {},
   "outputs": [
    {
     "name": "stdout",
     "output_type": "stream",
     "text": [
      "{'portakal', 'mango', 'elma'}\n"
     ]
    }
   ],
   "source": [
    "fruits={'mango', 'elma', 'portakal'}\n",
    "print(fruits)"
   ]
  },
  {
   "cell_type": "code",
   "execution_count": 346,
   "id": "southeast-redhead",
   "metadata": {},
   "outputs": [
    {
     "name": "stdout",
     "output_type": "stream",
     "text": [
      "{'mango', 'kiraz', 'elma', 'şeftali'}\n"
     ]
    }
   ],
   "source": [
    "new_fruits={'mango', 'elma', 'kiraz', 'şeftali'}\n",
    "print(new_fruits)"
   ]
  },
  {
   "cell_type": "code",
   "execution_count": 347,
   "id": "organic-catch",
   "metadata": {},
   "outputs": [
    {
     "name": "stdout",
     "output_type": "stream",
     "text": [
      "Sadece yeni meylelerde olanlar {'kiraz', 'şeftali'}\n"
     ]
    }
   ],
   "source": [
    "print(\"Sadece yeni meylelerde olanlar\",new_fruits.difference(fruits))"
   ]
  },
  {
   "cell_type": "code",
   "execution_count": 348,
   "id": "deadly-kernel",
   "metadata": {},
   "outputs": [
    {
     "name": "stdout",
     "output_type": "stream",
     "text": [
      "Her ikisinde olan meyveler : {'mango', 'elma'}\n"
     ]
    }
   ],
   "source": [
    "print(\"Her ikisinde olan meyveler :\",new_fruits.intersection(fruits))"
   ]
  },
  {
   "cell_type": "markdown",
   "id": "forty-happening",
   "metadata": {},
   "source": [
    "# Koşullar"
   ]
  },
  {
   "cell_type": "code",
   "execution_count": 14,
   "id": "strategic-stability",
   "metadata": {},
   "outputs": [
    {
     "name": "stdout",
     "output_type": "stream",
     "text": [
      "Sıcaklık değerini giriniz: 12\n",
      "Değeri hangi sıcaklık birimi ile yazdınız(Fahrenheit için f,Santigrat için s): C\n",
      "Sıcaklık (C): 53.60\n"
     ]
    }
   ],
   "source": [
    "kontrol=True\n",
    "kontrol2=True\n",
    "while kontrol:\n",
    "    Deger=input(\"Sıcaklık değerini giriniz: \")\n",
    "    if Deger.isnumeric():\n",
    "        kontrol=False\n",
    "    else:\n",
    "        print(\"Lütfen integer bir değer giriniz.\")\n",
    "while kontrol2:\n",
    "    Birim=input(\"Değeri hangi sıcaklık birimi ile yazdınız(Fahrenheit için f,Santigrat için s): \")\n",
    "    if Birim==\"f\" or \"F\":\n",
    "        kontrol2=False\n",
    "        Derece=(9/5)*(float(Deger))+32\n",
    "        print(\"Sıcaklık (C): {0:.2f}\".format(Derece))\n",
    "    elif Birim==\"c\" or \"C\":\n",
    "        kontrol2=False\n",
    "        Derece=(5/9)*(float(Deger)-32)\n",
    "        print(\"Sıcaklık (F): {0:.2f}\".format(Derece))\n",
    "    else:\n",
    "        print(\"Lütfen Fahrenheit ya da Santigrat seçiniz.\")\n"
   ]
  },
  {
   "cell_type": "code",
   "execution_count": 36,
   "id": "final-television",
   "metadata": {},
   "outputs": [
    {
     "name": "stdout",
     "output_type": "stream",
     "text": [
      "[0, 1, 1, 2, 3, 5, 8, 13, 21, 34, 55, 89, 144, 233, 377, 610, 987, 1597, 2584, 4181, 6765, 10946, 17711, 28657, 46368, 75025, 121393, 196418, 317811, 514229, 832040, 1346269, 2178309, 3524578, 5702887, 9227465, 14930352, 24157817, 39088169, 63245986, 102334155, 165580141, 267914296, 433494437, 701408733, 1134903170, 1836311903, 2971215073, 4807526976, 7778742049]\n"
     ]
    },
    {
     "data": {
      "text/plain": [
       "50"
      ]
     },
     "execution_count": 36,
     "metadata": {},
     "output_type": "execute_result"
    }
   ],
   "source": [
    "liste=[0,1,1]\n",
    "for num in range(47):\n",
    "    fib=liste[-1]+liste[-2]\n",
    "    liste.append(fib)\n",
    "print(\"İlk\",len(liste) ,\"sayinin fibonacci listesi,\",liste,\"dir\")"
   ]
  },
  {
   "cell_type": "code",
   "execution_count": 57,
   "id": "unique-abuse",
   "metadata": {},
   "outputs": [
    {
     "name": "stdout",
     "output_type": "stream",
     "text": [
      "Kişinin adini giriniz:23\n",
      "Kişinin yaşini giriniz:21\n",
      "Kişinin adini giriniz:emir\n",
      "Kişinin yaşini giriniz:56\n",
      "Kişinin adini giriniz:kaan\n",
      "Kişinin yaşini giriniz:21\n",
      "En büyük yaşa sahip kişi(ler) emir ve yaşı 56 dır\n"
     ]
    }
   ],
   "source": [
    "ad0=\"\"\n",
    "yas0=0\n",
    "for sayac in range (3):\n",
    "    ad1=input(\"Kişinin adini giriniz:\")\n",
    "    yas1=input(\"Kişinin yaşini giriniz:\")\n",
    "    if int(yas1)>yas0:\n",
    "        ad0=ad1\n",
    "        yas0=int(yas1)\n",
    "    elif int(yas1)==yas0:\n",
    "        ad0=ad0+\",\"+ad1\n",
    "print(\"En büyük yaşa sahip kişi(ler)\",ad0,\"ve yaşı\",yas0,\"dır\")"
   ]
  },
  {
   "cell_type": "code",
   "execution_count": 92,
   "id": "ruled-paragraph",
   "metadata": {},
   "outputs": [
    {
     "name": "stdout",
     "output_type": "stream",
     "text": [
      "Lütfen bir harf giriniz:12\n",
      "Rakam girdiğiniz tespit edildi. Lütfen bir harf giriniz:as\n",
      "Birden fazla harf girdiniz, ilk girdiğiniz harf kontrol edilecek\n",
      "Girdiğiniz harf ünlü bir harftir\n"
     ]
    }
   ],
   "source": [
    "ünlüler=\"aeuüiıoö\"\n",
    "kontrol=True\n",
    "\n",
    "while kontrol:\n",
    "    harf=input(\"Lütfen bir harf giriniz:\")\n",
    "    if harf.isdecimal():\n",
    "        print(\"Rakam girdiğiniz tespit edildi.\",end=\" \")\n",
    "    else:\n",
    "        if len(harf)>1:\n",
    "            print(\"Birden fazla harf girdiniz, ilk girdiğiniz harf kontrol edilecek\")\n",
    "            harf=harf[0]\n",
    "        for deger in ünlüler: \n",
    "            if harf==deger:\n",
    "                sonuc=(\"Girdiğiniz harf ünlü bir harftir\")\n",
    "                kontrol=False\n",
    "                break\n",
    "            else:\n",
    "                sonuc=(\"Girdiğiniz harf ünsüz bir harftir\")\n",
    "                kontrol=False\n",
    "    \n",
    "print(sonuc)\n",
    "    \n",
    "    \n",
    "            "
   ]
  },
  {
   "cell_type": "markdown",
   "id": "german-detail",
   "metadata": {},
   "source": [
    "# Döngüler"
   ]
  },
  {
   "cell_type": "code",
   "execution_count": 95,
   "id": "supreme-robinson",
   "metadata": {},
   "outputs": [
    {
     "name": "stdout",
     "output_type": "stream",
     "text": [
      "Lütfen bir kelime girinizemir\n",
      "rime\n"
     ]
    }
   ],
   "source": [
    "girdi=input(\"Lütfen bir kelime giriniz\")\n",
    "girdi=girdi[::-1]\n",
    "print(girdi)"
   ]
  },
  {
   "cell_type": "code",
   "execution_count": 100,
   "id": "executive-childhood",
   "metadata": {},
   "outputs": [
    {
     "name": "stdout",
     "output_type": "stream",
     "text": [
      "Bir rakam giriniz:1\n",
      "1 x 1 = 1\n",
      "1 x 2 = 2\n",
      "1 x 3 = 3\n",
      "1 x 4 = 4\n",
      "1 x 5 = 5\n",
      "1 x 6 = 6\n",
      "1 x 7 = 7\n",
      "1 x 8 = 8\n",
      "1 x 9 = 9\n"
     ]
    }
   ],
   "source": [
    "sayi=input(\"Bir rakam giriniz:\")\n",
    "sayi=int(sayi)\n",
    "for num in range(10):\n",
    "    print(sayi,\"x\", num+1,\"=\",sayi*(num+1))"
   ]
  },
  {
   "cell_type": "code",
   "execution_count": 105,
   "id": "forced-video",
   "metadata": {},
   "outputs": [
    {
     "name": "stdout",
     "output_type": "stream",
     "text": [
      "[1, 8, 9, 64, 25, 216, 49, 512, 81, 1000, 121, 1728, 169, 2744, 225, 4096, 289, 5832, 361]\n"
     ]
    }
   ],
   "source": [
    "print([x**3 if x % 2 == 0 else x**2 for x in range(1,20)])\n",
    "\n"
   ]
  },
  {
   "cell_type": "code",
   "execution_count": 136,
   "id": "arbitrary-amber",
   "metadata": {},
   "outputs": [
    {
     "name": "stdout",
     "output_type": "stream",
     "text": [
      "[1, 3, 5, 7, 9, 11, 13, 15, 17, 19, 21, 23, 25, 27, 29, 31, 33, 35, 37, 39, 41, 43, 45, 47, 49, 51, 53, 55, 57, 59, 61, 63, 65, 67, 69, 71, 73, 75, 77, 79, 81, 83, 85, 87, 89, 91, 93, 95, 97, 99, 101, 103, 105, 107, 109, 111, 113, 115, 117, 119, 121, 123, 125, 127, 129, 131, 133, 135, 137, 139, 141, 143, 145, 147, 149, 151, 153, 155, 157, 159, 161, 163, 165, 167, 169, 171, 173, 175, 177, 179, 181, 183, 185, 187, 189, 191, 193, 195, 197, 199]\n",
      "[2, 4, 6, 8, 10, 12, 14, 16, 18, 20, 22, 24, 26, 28, 30, 32, 34, 36, 38, 40, 42, 44, 46, 48, 50, 52, 54, 56, 58, 60, 62, 64, 66, 68, 70, 72, 74, 76, 78, 80, 82, 84, 86, 88, 90, 92, 94, 96, 98, 100, 102, 104, 106, 108, 110, 112, 114, 116, 118, 120, 122, 124, 126, 128, 130, 132, 134, 136, 138, 140, 142, 144, 146, 148, 150, 152, 154, 156, 158, 160, 162, 164, 166, 168, 170, 172, 174, 176, 178, 180, 182, 184, 186, 188, 190, 192, 194, 196, 198]\n"
     ]
    }
   ],
   "source": [
    "tek=[]\n",
    "cift=[]\n",
    "for num in range(1,200):\n",
    "    if num%2==0:\n",
    "        cift.append(num)\n",
    "    else:\n",
    "        tek.append(num)\n",
    "print(tek)\n",
    "print(cift)"
   ]
  },
  {
   "cell_type": "code",
   "execution_count": 154,
   "id": "unexpected-reform",
   "metadata": {},
   "outputs": [
    {
     "name": "stdout",
     "output_type": "stream",
     "text": [
      "İlk değeri giriniz: 13\n",
      "İkinci değeri giriniz: 3\n",
      "13 ile 3 nin OBEB'i 1 dir\n",
      "13 ile 3 nin OKEK'i 39 dir\n"
     ]
    }
   ],
   "source": [
    "OKEK = 0\n",
    "OBEB = 0\n",
    "sayi1=int(input(\"İlk değeri giriniz: \"))\n",
    "sayi2=int(input(\"İkinci değeri giriniz: \"))\n",
    "if sayi1 < sayi2:\n",
    "    k=sayi2\n",
    "else:\n",
    "    k=sayi1\n",
    "\n",
    "while k <= sayi1 * sayi2:   \n",
    "    if k % sayi1 == 0 and k % sayi2 == 0:\n",
    "        OKEK = k\n",
    "        break\n",
    "    k = k +1                \n",
    "    \n",
    "while k > 0:                     \n",
    "    if sayi1 % k == 0 and sayi2 % k == 0:\n",
    "        OBEB = k\n",
    "        break                   \n",
    "    k = k - 1\n",
    "print(sayi1,\"ile\", sayi2,\"nin OBEB'i\",OBEB,\"dir\")\n",
    "print(sayi1,\"ile\", sayi2,\"nin OKEK'i\",OKEK,\"dir\")"
   ]
  },
  {
   "cell_type": "markdown",
   "id": "demographic-tracy",
   "metadata": {},
   "source": [
    "# Fonksiyonlar"
   ]
  },
  {
   "cell_type": "code",
   "execution_count": 225,
   "id": "sorted-fifteen",
   "metadata": {},
   "outputs": [
    {
     "name": "stdout",
     "output_type": "stream",
     "text": [
      "13 Asal Sayıdır.\n"
     ]
    }
   ],
   "source": [
    "def asal_kontrol(sayi):\n",
    "    if sayi > 1:\n",
    "        for i in range(2,sayi):\n",
    "            if (sayi % i) == 0:\n",
    "                print(sayi,\"Asal Sayı Değildir.\")\n",
    "                break\n",
    "            else:\n",
    "                print(sayi,\"Asal Sayıdır.\")\n",
    "                break\n",
    "    else:\n",
    "        print(sayi,\"Asal Sayı Değildir.\")\n",
    "        \n",
    "asal_kontrol(13)"
   ]
  },
  {
   "cell_type": "code",
   "execution_count": 226,
   "id": "daily-credit",
   "metadata": {},
   "outputs": [
    {
     "name": "stdout",
     "output_type": "stream",
     "text": [
      "[1, 2, 3, 4, 5, 8, 0, 6]\n"
     ]
    }
   ],
   "source": [
    "liste1=[1,2,2,3,4,1,5,8,0,6,4,4,4,4]\n",
    "liste2=[]\n",
    "\n",
    "def transfer(deger):\n",
    "    if (deger in liste2):\n",
    "        None\n",
    "    else:\n",
    "        liste2.append(deger)   \n",
    "\n",
    "for num in liste1:\n",
    "    transfer(num)\n",
    "    \n",
    "print(liste2)"
   ]
  },
  {
   "cell_type": "code",
   "execution_count": 227,
   "id": "superb-reconstruction",
   "metadata": {},
   "outputs": [
    {
     "name": "stdout",
     "output_type": "stream",
     "text": [
      "Faktoriyelini öğrenmek istediğiniz değeri giriniz:5\n",
      "120\n"
     ]
    }
   ],
   "source": [
    "def faktoriyel(sayi):\n",
    "    deger = 1\n",
    "    for i in range(sayi):\n",
    "        deger = deger * (i+1)\n",
    "    return deger\n",
    "\n",
    "sayi = int(input(\"Faktoriyelini öğrenmek istediğiniz değeri giriniz:\"))\n",
    "print(faktoriyel(sayi))"
   ]
  },
  {
   "cell_type": "code",
   "execution_count": 228,
   "id": "incoming-component",
   "metadata": {},
   "outputs": [
    {
     "name": "stdout",
     "output_type": "stream",
     "text": [
      "15 adet büyük harf 17 adet küçük harf vardır.\n"
     ]
    }
   ],
   "source": [
    "def buyukkucuk(metin):\n",
    "    kucuk=0\n",
    "    buyuk=0\n",
    "    for num in metin:\n",
    "        if num.islower():\n",
    "            kucuk=kucuk+1\n",
    "        else:\n",
    "            buyuk=buyuk+1\n",
    "    print(buyuk,\"adet büyük harf\",kucuk,\"adet küçük harf vardır.\")\n",
    "\n",
    "buyukkucuk(\"sdjfkljdsDSFDSsdfdsDSFSDSDFdsfSD\")"
   ]
  },
  {
   "cell_type": "markdown",
   "id": "unknown-centre",
   "metadata": {},
   "source": [
    "# Errors and Exceptions Handling"
   ]
  },
  {
   "cell_type": "code",
   "execution_count": 242,
   "id": "rocky-smoke",
   "metadata": {},
   "outputs": [
    {
     "name": "stdout",
     "output_type": "stream",
     "text": [
      "ERROR\n",
      "Division by zero\n"
     ]
    }
   ],
   "source": [
    "sayi1=3\n",
    "sayi2=0\n",
    "try:\n",
    "    sonuc=sayi1/sayi2\n",
    "    \n",
    "except ZeroDivisionError:\n",
    "    print(\"ERROR\\nDivision by zero\")\n",
    "\n",
    "    "
   ]
  },
  {
   "cell_type": "code",
   "execution_count": 6,
   "id": "backed-pursuit",
   "metadata": {},
   "outputs": [
    {
     "name": "stdout",
     "output_type": "stream",
     "text": [
      "['Merhaba', 42, 3.414, True, None]\n"
     ]
    }
   ],
   "source": [
    "def siralama(liste):\n",
    "    try:\n",
    "        liste=liste.sort()\n",
    "        print(liste)\n",
    "    except:\n",
    "        pass\n",
    "    return liste\n",
    "liste = ['Merhaba', 42, 3.414, True, None]\n",
    "print(siralama(liste))"
   ]
  },
  {
   "cell_type": "markdown",
   "id": "jewish-laser",
   "metadata": {},
   "source": [
    "# İçerik - Dosya İşlemleri"
   ]
  },
  {
   "cell_type": "code",
   "execution_count": 122,
   "id": "recovered-poison",
   "metadata": {},
   "outputs": [
    {
     "name": "stdout",
     "output_type": "stream",
     "text": [
      "16\n"
     ]
    }
   ],
   "source": [
    "with open(\"siir.txt\", \"r\", encoding='utf8') as f:\n",
    "    print(len(f.readlines()))"
   ]
  },
  {
   "cell_type": "code",
   "execution_count": 1,
   "id": "efficient-newcastle",
   "metadata": {
    "scrolled": true
   },
   "outputs": [
    {
     "name": "stdout",
     "output_type": "stream",
     "text": [
      "[]\n"
     ]
    }
   ],
   "source": [
    "f = open(\"siir.txt\", \"r+\", encoding='utf8')\n",
    "y = open(\"siiryeni.txt\", 'w+', encoding='utf8')\n",
    "dizeler1 = f.readline()\n",
    "text=dizeler1.split(\" \")\n",
    "text=text[0]\n",
    "y.write(\"{}\\n\".format(text))\n",
    "dizeler2 = f.readline()\n",
    "text=dizeler2.split(\" \")\n",
    "text=text[0]\n",
    "y.write(\"{}\\n\".format(text))\n",
    "dizeler3 = f.readline()\n",
    "text=dizeler3.split(\" \")\n",
    "text=text[0]\n",
    "y.write(\"{}\\n\".format(text))\n",
    "dizeler4 = f.readline()\n",
    "text=dizeler4.split(\" \")\n",
    "text=text[0]\n",
    "y.write(\"{}\\n\".format(text))\n",
    "dizeler5 = f.readline()\n",
    "text=dizeler5.split(\" \")\n",
    "text=text[0]\n",
    "y.write(\"{}\\n\".format(text))\n",
    "dizeler6 = f.readline()\n",
    "text=dizeler6.split(\" \")\n",
    "text=text[0]\n",
    "y.write(\"{}\\n\".format(text))\n",
    "dizeler7 = f.readline()\n",
    "text=dizeler7.split(\" \")\n",
    "text=text[0]\n",
    "y.write(\"{}\\n\".format(text))\n",
    "dizeler8 = f.readline()\n",
    "text=dizeler8.split(\" \")\n",
    "text=text[0]\n",
    "y.write(\"{}\\n\".format(text))\n",
    "dizeler9 = f.readline()\n",
    "text=dizeler9.split(\" \")\n",
    "text=text[0]\n",
    "y.write(\"{}\\n\".format(text))\n",
    "dizeler10 = f.readline()\n",
    "text=dizeler10.split(\" \")\n",
    "text=text[0]\n",
    "y.write(\"{}\\n\".format(text))\n",
    "dizeler11 = f.readline()\n",
    "text=dizeler11.split(\" \")\n",
    "text=text[0]\n",
    "y.write(\"{}\\n\".format(text))\n",
    "dizeler12 = f.readline()\n",
    "text=dizeler12.split(\" \")\n",
    "text=text[0]\n",
    "y.write(\"{}\\n\".format(text))\n",
    "dizeler13 = f.readline()\n",
    "text=dizeler13.split(\" \")\n",
    "text=text[0]\n",
    "y.write(\"{}\\n\".format(text))\n",
    "dizeler14 = f.readline()\n",
    "text=dizeler14.split(\" \")\n",
    "text=text[0]\n",
    "y.write(\"{}\\n\".format(text))\n",
    "dizeler15 = f.readline()\n",
    "text=dizeler15.split(\" \")\n",
    "text=text[0]\n",
    "y.write(\"{}\\n\".format(text))\n",
    "dizeler16 = f.readline()\n",
    "text=dizeler16.split(\" \")\n",
    "text=text[0]\n",
    "y.write(\"{}\\n\".format(text))\n",
    "dizeler = y.readlines()\n",
    "print(dizeler)"
   ]
  },
  {
   "cell_type": "code",
   "execution_count": null,
   "id": "innovative-breakfast",
   "metadata": {},
   "outputs": [],
   "source": []
  }
 ],
 "metadata": {
  "kernelspec": {
   "display_name": "Python 3",
   "language": "python",
   "name": "python3"
  },
  "language_info": {
   "codemirror_mode": {
    "name": "ipython",
    "version": 3
   },
   "file_extension": ".py",
   "mimetype": "text/x-python",
   "name": "python",
   "nbconvert_exporter": "python",
   "pygments_lexer": "ipython3",
   "version": "3.9.2"
  }
 },
 "nbformat": 4,
 "nbformat_minor": 5
}
